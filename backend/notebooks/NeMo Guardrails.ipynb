{
 "cells": [
  {
   "cell_type": "code",
   "execution_count": null,
   "id": "5bbf2d73-4667-4a70-b6e7-b52d62d49de1",
   "metadata": {},
   "outputs": [],
   "source": [
    "!pip install nemoguardrails openai langchain-openai"
   ]
  },
  {
   "cell_type": "code",
   "execution_count": 5,
   "id": "c06e2d86-ca55-4a52-8b28-25ce26b59d0a",
   "metadata": {},
   "outputs": [],
   "source": [
    "import nest_asyncio\n",
    "\n",
    "nest_asyncio.apply()"
   ]
  },
  {
   "cell_type": "code",
   "execution_count": 7,
   "id": "bdcede2e-42f3-47e2-8682-9723072516c4",
   "metadata": {},
   "outputs": [],
   "source": [
    "from nemoguardrails import RailsConfig\n",
    "\n",
    "config = RailsConfig.from_path(\"../app/guardrails\")"
   ]
  },
  {
   "cell_type": "code",
   "execution_count": 8,
   "id": "627869c5-88c3-4cee-abbe-247f96ab1dab",
   "metadata": {},
   "outputs": [],
   "source": [
    "from dotenv import load_dotenv\n",
    "import os\n",
    "\n",
    "load_dotenv(\"../.env\")\n",
    "os.environ[\"OPENAI_API_KEY\"] = os.getenv(\"OPENAI_API_KEY\")  "
   ]
  },
  {
   "cell_type": "code",
   "execution_count": 9,
   "id": "5a0eaf7f-5468-4820-9887-e1cfebf54f37",
   "metadata": {},
   "outputs": [
    {
     "name": "stdout",
     "output_type": "stream",
     "text": [
      "{'role': 'assistant', 'content': 'Hello World!\\nHow are you doing?'}\n"
     ]
    }
   ],
   "source": [
    "from nemoguardrails import LLMRails\n",
    "\n",
    "rails = LLMRails(config)\n",
    "\n",
    "response = rails.generate(messages=[{\n",
    "    \"role\": \"user\",\n",
    "    \"content\": \"Hello!\"\n",
    "}])\n",
    "print(response)"
   ]
  },
  {
   "cell_type": "code",
   "execution_count": 10,
   "id": "9cc91d79-5d05-45d5-9e2c-057f3460de02",
   "metadata": {},
   "outputs": [
    {
     "name": "stdout",
     "output_type": "stream",
     "text": [
      "user \"Hello!\"\n",
      "  express greeting\n",
      "bot express greeting\n",
      "  \"Hello World!\"\n",
      "bot ask how are you\n",
      "  \"How are you doing?\"\n",
      "\n"
     ]
    }
   ],
   "source": [
    "info = rails.explain()\n",
    "print(info.colang_history)"
   ]
  },
  {
   "cell_type": "code",
   "execution_count": 11,
   "id": "9ff47191-92ab-4a33-acb3-a48edf009232",
   "metadata": {},
   "outputs": [
    {
     "name": "stdout",
     "output_type": "stream",
     "text": [
      "Summary: 1 LLM call(s) took 1.09 seconds and used 660 tokens.\n",
      "\n",
      "1. Task `generate_user_intent` took 1.09 seconds and used 660 tokens.\n",
      "\n"
     ]
    }
   ],
   "source": [
    "info.print_llm_calls_summary()"
   ]
  },
  {
   "cell_type": "code",
   "execution_count": 16,
   "id": "df9bddb5-0ce3-4e8e-a565-cdb41a92e6ea",
   "metadata": {},
   "outputs": [
    {
     "name": "stdout",
     "output_type": "stream",
     "text": [
      "Hello again! I can assist you with job application questions, generate answers based on job descriptions and your qualifications, and provide guidance on various topics. How can I help you today?\n"
     ]
    }
   ],
   "source": [
    "# testing without input Rails\n",
    "from nemoguardrails import RailsConfig, LLMRails\n",
    "\n",
    "config = RailsConfig.from_path(\"../app/guardrails\")\n",
    "rails = LLMRails(config)\n",
    "\n",
    "response = rails.generate(messages=[{\n",
    "    \"role\": \"user\",\n",
    "    \"content\": \"Hello! What can you do for me?\"\n",
    "}])\n",
    "print(response[\"content\"])"
   ]
  },
  {
   "cell_type": "code",
   "execution_count": 17,
   "id": "058a7192-87b8-4157-85ab-9bac83d06f91",
   "metadata": {},
   "outputs": [
    {
     "name": "stdout",
     "output_type": "stream",
     "text": [
      "At Amazon, a software engineer is generally expected to design, develop, and maintain software systems. This includes writing high-quality code, participating in code reviews, collaborating with cross-functional teams, and contributing to project planning and design discussions. Additionally, software engineers at Amazon are expected to be familiar with agile methodologies, have strong problem-solving skills, and be able to work in a fast-paced environment.\n"
     ]
    }
   ],
   "source": [
    "response = rails.generate(messages=[{\n",
    "    \"role\": \"user\",\n",
    "    \"content\": \"What is expected of a software engineer at Amazon?\"\n",
    "}])\n",
    "print(response[\"content\"])"
   ]
  },
  {
   "cell_type": "code",
   "execution_count": null,
   "id": "2b325495-7b98-4961-91f1-1e25c3824b0b",
   "metadata": {},
   "outputs": [],
   "source": []
  }
 ],
 "metadata": {
  "kernelspec": {
   "display_name": "Python 3 (ipykernel)",
   "language": "python",
   "name": "python3"
  },
  "language_info": {
   "codemirror_mode": {
    "name": "ipython",
    "version": 3
   },
   "file_extension": ".py",
   "mimetype": "text/x-python",
   "name": "python",
   "nbconvert_exporter": "python",
   "pygments_lexer": "ipython3",
   "version": "3.12.4"
  }
 },
 "nbformat": 4,
 "nbformat_minor": 5
}
